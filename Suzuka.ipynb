{
 "cells": [
  {
   "cell_type": "code",
   "execution_count": 13,
   "metadata": {},
   "outputs": [],
   "source": [
    "import fastf1\n",
    "import os\n",
    "import  pandas as  pd\n",
    "import numpy as np\n",
    "from sklearn.model_selection import train_test_split\n",
    "from sklearn.ensemble import GradientBoostingRegressor\n",
    "from sklearn.metrics import mean_absolute_error"
   ]
  },
  {
   "cell_type": "code",
   "execution_count": 14,
   "metadata": {},
   "outputs": [],
   "source": [
    "#enable fastf1 caching\n",
    "cache_dir=\"F1_cache\"\n",
    "\n",
    "if not os.path.exists(cache_dir):\n",
    "    os.makedirs(cache_dir)\n",
    "\n",
    "    \n",
    "fastf1.Cache.enable_cache('F1_cache')"
   ]
  },
  {
   "cell_type": "code",
   "execution_count": 23,
   "metadata": {},
   "outputs": [
    {
     "name": "stderr",
     "output_type": "stream",
     "text": [
      "logger      WARNING \tFailed to load schedule from FastF1 backend!\n",
      "req            INFO \tNo cached data found for season_schedule. Loading data...\n",
      "_api           INFO \tFetching season schedule...\n",
      "req            INFO \tData has been written to cache!\n"
     ]
    },
    {
     "ename": "ValueError",
     "evalue": "Invalid round: 4",
     "output_type": "error",
     "traceback": [
      "\u001b[0;31m---------------------------------------------------------------------------\u001b[0m",
      "\u001b[0;31mValueError\u001b[0m                                Traceback (most recent call last)",
      "Cell \u001b[0;32mIn[23], line 2\u001b[0m\n\u001b[1;32m      1\u001b[0m \u001b[38;5;66;03m#load FastF1 2024 Chinese GP race session\u001b[39;00m\n\u001b[0;32m----> 2\u001b[0m session_2024\u001b[38;5;241m=\u001b[39m\u001b[43mfastf1\u001b[49m\u001b[38;5;241;43m.\u001b[39;49m\u001b[43mget_session\u001b[49m\u001b[43m(\u001b[49m\u001b[38;5;241;43m2024\u001b[39;49m\u001b[43m,\u001b[49m\u001b[38;5;241;43m4\u001b[39;49m\u001b[43m,\u001b[49m\u001b[38;5;124;43m\"\u001b[39;49m\u001b[38;5;124;43mR\u001b[39;49m\u001b[38;5;124;43m\"\u001b[39;49m\u001b[43m)\u001b[49m\n\u001b[1;32m      3\u001b[0m session_2024\u001b[38;5;241m.\u001b[39mload()\n",
      "File \u001b[0;32m~/Library/Python/3.9/lib/python/site-packages/fastf1/events.py:310\u001b[0m, in \u001b[0;36mget_session\u001b[0;34m(year, gp, identifier, backend, force_ergast)\u001b[0m\n\u001b[1;32m    242\u001b[0m \u001b[38;5;28;01mdef\u001b[39;00m\u001b[38;5;250m \u001b[39m\u001b[38;5;21mget_session\u001b[39m(\n\u001b[1;32m    243\u001b[0m         year: \u001b[38;5;28mint\u001b[39m,\n\u001b[1;32m    244\u001b[0m         gp: Union[\u001b[38;5;28mstr\u001b[39m, \u001b[38;5;28mint\u001b[39m],\n\u001b[0;32m   (...)\u001b[0m\n\u001b[1;32m    248\u001b[0m         force_ergast: \u001b[38;5;28mbool\u001b[39m \u001b[38;5;241m=\u001b[39m \u001b[38;5;28;01mFalse\u001b[39;00m,\n\u001b[1;32m    249\u001b[0m ) \u001b[38;5;241m-\u001b[39m\u001b[38;5;241m>\u001b[39m Session:\n\u001b[1;32m    250\u001b[0m \u001b[38;5;250m    \u001b[39m\u001b[38;5;124;03m\"\"\"Create a :class:`~fastf1.core.Session` object based on year, event name\u001b[39;00m\n\u001b[1;32m    251\u001b[0m \u001b[38;5;124;03m    and session identifier.\u001b[39;00m\n\u001b[1;32m    252\u001b[0m \n\u001b[0;32m   (...)\u001b[0m\n\u001b[1;32m    308\u001b[0m \u001b[38;5;124;03m            from the ergast database to create the event schedule\u001b[39;00m\n\u001b[1;32m    309\u001b[0m \u001b[38;5;124;03m    \"\"\"\u001b[39;00m\n\u001b[0;32m--> 310\u001b[0m     event \u001b[38;5;241m=\u001b[39m \u001b[43mget_event\u001b[49m\u001b[43m(\u001b[49m\u001b[43myear\u001b[49m\u001b[43m,\u001b[49m\u001b[43m \u001b[49m\u001b[43mgp\u001b[49m\u001b[43m,\u001b[49m\u001b[43m \u001b[49m\u001b[43mforce_ergast\u001b[49m\u001b[38;5;241;43m=\u001b[39;49m\u001b[43mforce_ergast\u001b[49m\u001b[43m,\u001b[49m\u001b[43m \u001b[49m\u001b[43mbackend\u001b[49m\u001b[38;5;241;43m=\u001b[39;49m\u001b[43mbackend\u001b[49m\u001b[43m)\u001b[49m\n\u001b[1;32m    311\u001b[0m     \u001b[38;5;28;01mreturn\u001b[39;00m event\u001b[38;5;241m.\u001b[39mget_session(identifier)\n",
      "File \u001b[0;32m~/Library/Python/3.9/lib/python/site-packages/fastf1/events.py:413\u001b[0m, in \u001b[0;36mget_event\u001b[0;34m(year, gp, backend, force_ergast, strict_search, exact_match)\u001b[0m\n\u001b[1;32m    410\u001b[0m     event \u001b[38;5;241m=\u001b[39m schedule\u001b[38;5;241m.\u001b[39mget_event_by_name(\n\u001b[1;32m    411\u001b[0m         gp, strict_search\u001b[38;5;241m=\u001b[39mstrict_search, exact_match\u001b[38;5;241m=\u001b[39mexact_match)\n\u001b[1;32m    412\u001b[0m \u001b[38;5;28;01melse\u001b[39;00m:\n\u001b[0;32m--> 413\u001b[0m     event \u001b[38;5;241m=\u001b[39m \u001b[43mschedule\u001b[49m\u001b[38;5;241;43m.\u001b[39;49m\u001b[43mget_event_by_round\u001b[49m\u001b[43m(\u001b[49m\u001b[43mgp\u001b[49m\u001b[43m)\u001b[49m\n\u001b[1;32m    415\u001b[0m \u001b[38;5;28;01mreturn\u001b[39;00m event\n",
      "File \u001b[0;32m~/Library/Python/3.9/lib/python/site-packages/fastf1/events.py:891\u001b[0m, in \u001b[0;36mEventSchedule.get_event_by_round\u001b[0;34m(self, round)\u001b[0m\n\u001b[1;32m    889\u001b[0m mask \u001b[38;5;241m=\u001b[39m \u001b[38;5;28mself\u001b[39m[\u001b[38;5;124m'\u001b[39m\u001b[38;5;124mRoundNumber\u001b[39m\u001b[38;5;124m'\u001b[39m] \u001b[38;5;241m==\u001b[39m \u001b[38;5;28mround\u001b[39m\n\u001b[1;32m    890\u001b[0m \u001b[38;5;28;01mif\u001b[39;00m \u001b[38;5;129;01mnot\u001b[39;00m mask\u001b[38;5;241m.\u001b[39many():\n\u001b[0;32m--> 891\u001b[0m     \u001b[38;5;28;01mraise\u001b[39;00m \u001b[38;5;167;01mValueError\u001b[39;00m(\u001b[38;5;124mf\u001b[39m\u001b[38;5;124m\"\u001b[39m\u001b[38;5;124mInvalid round: \u001b[39m\u001b[38;5;132;01m{\u001b[39;00m\u001b[38;5;28mround\u001b[39m\u001b[38;5;132;01m}\u001b[39;00m\u001b[38;5;124m\"\u001b[39m)\n\u001b[1;32m    892\u001b[0m \u001b[38;5;28;01mreturn\u001b[39;00m \u001b[38;5;28mself\u001b[39m[mask]\u001b[38;5;241m.\u001b[39miloc[\u001b[38;5;241m0\u001b[39m]\n",
      "\u001b[0;31mValueError\u001b[0m: Invalid round: 4"
     ]
    }
   ],
   "source": [
    "#load FastF1 2024 Chinese GP race session\n",
    "session_2024=fastf1.get_session(2024,4,\"R\")\n",
    "session_2024.load()"
   ]
  },
  {
   "cell_type": "code",
   "execution_count": 19,
   "metadata": {},
   "outputs": [],
   "source": [
    "#Extract Lap Times\n",
    "laps_2024=session_2024.laps[[\"Driver\",\"LapTime\"]].copy()\n",
    "laps_2024.dropna(subset=[\"LapTime\"],inplace=True)\n",
    "laps_2024[\"LapTime(s)\"]=laps_2024[\"LapTime\"].dt.total_seconds()\n",
    "\n"
   ]
  },
  {
   "cell_type": "code",
   "execution_count": 21,
   "metadata": {},
   "outputs": [],
   "source": [
    "#2025 Qualifying data\n",
    "\n",
    "qualifying_2025 = pd.DataFrame({\n",
    "    \"Driver\": [\"Oscar Piastri\", \"George Russell\", \"Lando Norris\", \"Max Verstappen\", \"Lewis Hamilton\", \n",
    "               \"Charles Leclerc\", \"Isack Hadjar\", \"Kimi Antonelli\", \"Yuki Tsunoda\", \"Alexander Albon\", \n",
    "               \"Esteban Ocon\", \"Nico Hulkenberg\", \"Fernando Alonso\", \"Lance Stroll\", \"Carlos Sainz\", \n",
    "               \"Pierre Gasly\", \"Oliver Bearman\", \"Jack Doohan\", \"Gabriel Bortoleto\", \"Liam Lawson\"],\n",
    "    \"QualifyingTime(s)\": [90.641, 90.723, 90.793, 90.817, 90.927, \n",
    "                           91.021, 91.079, 91.103, 91.638, 91.706, \n",
    "                           91.625, 91.632, 91.688, 91.773, 91.840, \n",
    "                           91.992, 92.018, 92.092, 92.141, 92.174]\n",
    "})\n",
    "\n"
   ]
  },
  {
   "cell_type": "code",
   "execution_count": 24,
   "metadata": {},
   "outputs": [],
   "source": [
    "#Map full names to codes\n",
    "driver_mapping = {\n",
    "    \"Oscar Piastri\": \"PIA\",\n",
    "    \"George Russell\": \"RUS\",\n",
    "    \"Lando Norris\": \"NOR\",\n",
    "    \"Max Verstappen\": \"VER\",\n",
    "    \"Lewis Hamilton\": \"HAM\",\n",
    "    \"Charles Leclerc\": \"LEC\",\n",
    "    \"Isack Hadjar\": \"HAD\",\n",
    "    \"Kimi Antonelli\": \"ANT\",\n",
    "    \"Yuki Tsunoda\": \"TSU\",\n",
    "    \"Alexander Albon\": \"ALB\",\n",
    "    \"Esteban Ocon\": \"OCO\",\n",
    "    \"Nico Hulkenberg\": \"HUL\",\n",
    "    \"Fernando Alonso\": \"ALO\",\n",
    "    \"Lance Stroll\": \"STR\",\n",
    "    \"Carlos Sainz\": \"SAI\",\n",
    "    \"Pierre Gasly\": \"GAS\",\n",
    "    \"Oliver Bearman\": \"BEA\",\n",
    "    \"Jack Doohan\": \"DOO\",\n",
    "    \"Gabriel Bortoleto\": \"BOR\",\n",
    "    \"Liam Lawson\": \"LAW\"\n",
    "}\n",
    "\n",
    "qualifying_2025[\"DriverCode\"]=qualifying_2025[\"Driver\"].map(driver_mapping)\n"
   ]
  },
  {
   "cell_type": "code",
   "execution_count": null,
   "metadata": {},
   "outputs": [],
   "source": []
  }
 ],
 "metadata": {
  "kernelspec": {
   "display_name": "Python 3",
   "language": "python",
   "name": "python3"
  },
  "language_info": {
   "codemirror_mode": {
    "name": "ipython",
    "version": 3
   },
   "file_extension": ".py",
   "mimetype": "text/x-python",
   "name": "python",
   "nbconvert_exporter": "python",
   "pygments_lexer": "ipython3",
   "version": "3.9.6"
  }
 },
 "nbformat": 4,
 "nbformat_minor": 2
}
